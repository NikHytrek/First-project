{
 "cells": [
  {
   "cell_type": "markdown",
   "metadata": {},
   "source": [
    "# Nebraska voters mirror national trend"
   ]
  },
  {
   "cell_type": "markdown",
   "metadata": {},
   "source": [
    "America was built on a two-party system, what eventually became Republicans and Democrats. But Americans are increasingly turning away from the major parties and registering as third parties.The most prominent parties are the Independent Party, which falls under the term, nonpartisan, and the Libertarian Party. Nebraska voters are no exception to the trend. Though the majority of these voters still stand with Republicans and Democrats, an increasing number of Nebraskans register as Nonpartisans or Libertarains."
   ]
  },
  {
   "cell_type": "code",
   "execution_count": 1,
   "metadata": {},
   "outputs": [
    {
     "name": "stderr",
     "output_type": "stream",
     "text": [
      "\n",
      "Attaching package: 'dplyr'\n",
      "\n",
      "The following objects are masked from 'package:stats':\n",
      "\n",
      "    filter, lag\n",
      "\n",
      "The following objects are masked from 'package:base':\n",
      "\n",
      "    intersect, setdiff, setequal, union\n",
      "\n"
     ]
    }
   ],
   "source": [
    "library(dplyr)\n",
    "library(ggplot2)\n",
    "library(scales)\n",
    "library(reshape2)\n",
    "library(\"RColorBrewer\")"
   ]
  },
  {
   "cell_type": "code",
   "execution_count": 2,
   "metadata": {},
   "outputs": [],
   "source": [
    "growth = read.csv(\"results_most.csv\")"
   ]
  },
  {
   "cell_type": "code",
   "execution_count": 3,
   "metadata": {
    "scrolled": false
   },
   "outputs": [
    {
     "data": {
      "text/html": [
       "<table>\n",
       "<thead><tr><th scope=col>ï..County</th><th scope=col>Republican</th><th scope=col>Democrat</th><th scope=col>Nonpartisan</th><th scope=col>Libertarian</th><th scope=col>Year</th></tr></thead>\n",
       "<tbody>\n",
       "\t<tr><td>Adams   </td><td>10282   </td><td>5944    </td><td>2789    </td><td>3       </td><td>2008    </td></tr>\n",
       "\t<tr><td>Antelope</td><td> 3012   </td><td>1238    </td><td> 490    </td><td>1       </td><td>2008    </td></tr>\n",
       "\t<tr><td>Arthur  </td><td>  265   </td><td>  66    </td><td>  11    </td><td>0       </td><td>2008    </td></tr>\n",
       "\t<tr><td>Banner  </td><td>  442   </td><td>  62    </td><td>  46    </td><td>0       </td><td>2008    </td></tr>\n",
       "\t<tr><td>Blaine  </td><td>  290   </td><td>  74    </td><td>  25    </td><td>0       </td><td>2008    </td></tr>\n",
       "\t<tr><td>Boone   </td><td> 2475   </td><td>1203    </td><td> 385    </td><td>0       </td><td>2008    </td></tr>\n",
       "</tbody>\n",
       "</table>\n"
      ],
      "text/latex": [
       "\\begin{tabular}{r|llllll}\n",
       " ï..County & Republican & Democrat & Nonpartisan & Libertarian & Year\\\\\n",
       "\\hline\n",
       "\t Adams    & 10282    & 5944     & 2789     & 3        & 2008    \\\\\n",
       "\t Antelope &  3012    & 1238     &  490     & 1        & 2008    \\\\\n",
       "\t Arthur   &   265    &   66     &   11     & 0        & 2008    \\\\\n",
       "\t Banner   &   442    &   62     &   46     & 0        & 2008    \\\\\n",
       "\t Blaine   &   290    &   74     &   25     & 0        & 2008    \\\\\n",
       "\t Boone    &  2475    & 1203     &  385     & 0        & 2008    \\\\\n",
       "\\end{tabular}\n"
      ],
      "text/markdown": [
       "\n",
       "ï..County | Republican | Democrat | Nonpartisan | Libertarian | Year | \n",
       "|---|---|---|---|---|---|\n",
       "| Adams    | 10282    | 5944     | 2789     | 3        | 2008     | \n",
       "| Antelope |  3012    | 1238     |  490     | 1        | 2008     | \n",
       "| Arthur   |   265    |   66     |   11     | 0        | 2008     | \n",
       "| Banner   |   442    |   62     |   46     | 0        | 2008     | \n",
       "| Blaine   |   290    |   74     |   25     | 0        | 2008     | \n",
       "| Boone    |  2475    | 1203     |  385     | 0        | 2008     | \n",
       "\n",
       "\n"
      ],
      "text/plain": [
       "  ï..County Republican Democrat Nonpartisan Libertarian Year\n",
       "1 Adams     10282      5944     2789        3           2008\n",
       "2 Antelope   3012      1238      490        1           2008\n",
       "3 Arthur      265        66       11        0           2008\n",
       "4 Banner      442        62       46        0           2008\n",
       "5 Blaine      290        74       25        0           2008\n",
       "6 Boone      2475      1203      385        0           2008"
      ]
     },
     "metadata": {},
     "output_type": "display_data"
    },
    {
     "data": {
      "text/html": [
       "<table>\n",
       "<thead><tr><th></th><th scope=col>ï..County</th><th scope=col>Republican</th><th scope=col>Democrat</th><th scope=col>Nonpartisan</th><th scope=col>Libertarian</th><th scope=col>Year</th></tr></thead>\n",
       "<tbody>\n",
       "\t<tr><th scope=row>459</th><td>Valley    </td><td>1919      </td><td> 736      </td><td> 345      </td><td>  8       </td><td>2016      </td></tr>\n",
       "\t<tr><th scope=row>460</th><td>Washington</td><td>8261      </td><td>3203      </td><td>2814      </td><td>124       </td><td>2016      </td></tr>\n",
       "\t<tr><th scope=row>461</th><td>Wayne     </td><td>3308      </td><td>1108      </td><td> 854      </td><td> 47       </td><td>2016      </td></tr>\n",
       "\t<tr><th scope=row>462</th><td>Webster   </td><td>1471      </td><td> 569      </td><td> 377      </td><td> 12       </td><td>2016      </td></tr>\n",
       "\t<tr><th scope=row>463</th><td>Wheeler   </td><td> 419      </td><td> 126      </td><td>  57      </td><td>  4       </td><td>2016      </td></tr>\n",
       "\t<tr><th scope=row>464</th><td>York      </td><td>6724      </td><td>1800      </td><td>1509      </td><td> 72       </td><td>2016      </td></tr>\n",
       "</tbody>\n",
       "</table>\n"
      ],
      "text/latex": [
       "\\begin{tabular}{r|llllll}\n",
       "  & ï..County & Republican & Democrat & Nonpartisan & Libertarian & Year\\\\\n",
       "\\hline\n",
       "\t459 & Valley     & 1919       &  736       &  345       &   8        & 2016      \\\\\n",
       "\t460 & Washington & 8261       & 3203       & 2814       & 124        & 2016      \\\\\n",
       "\t461 & Wayne      & 3308       & 1108       &  854       &  47        & 2016      \\\\\n",
       "\t462 & Webster    & 1471       &  569       &  377       &  12        & 2016      \\\\\n",
       "\t463 & Wheeler    &  419       &  126       &   57       &   4        & 2016      \\\\\n",
       "\t464 & York       & 6724       & 1800       & 1509       &  72        & 2016      \\\\\n",
       "\\end{tabular}\n"
      ],
      "text/markdown": [
       "\n",
       "| <!--/--> | ï..County | Republican | Democrat | Nonpartisan | Libertarian | Year | \n",
       "|---|---|---|---|---|---|\n",
       "| 459 | Valley     | 1919       |  736       |  345       |   8        | 2016       | \n",
       "| 460 | Washington | 8261       | 3203       | 2814       | 124        | 2016       | \n",
       "| 461 | Wayne      | 3308       | 1108       |  854       |  47        | 2016       | \n",
       "| 462 | Webster    | 1471       |  569       |  377       |  12        | 2016       | \n",
       "| 463 | Wheeler    |  419       |  126       |   57       |   4        | 2016       | \n",
       "| 464 | York       | 6724       | 1800       | 1509       |  72        | 2016       | \n",
       "\n",
       "\n"
      ],
      "text/plain": [
       "    ï..County  Republican Democrat Nonpartisan Libertarian Year\n",
       "459 Valley     1919        736      345          8         2016\n",
       "460 Washington 8261       3203     2814        124         2016\n",
       "461 Wayne      3308       1108      854         47         2016\n",
       "462 Webster    1471        569      377         12         2016\n",
       "463 Wheeler     419        126       57          4         2016\n",
       "464 York       6724       1800     1509         72         2016"
      ]
     },
     "metadata": {},
     "output_type": "display_data"
    },
    {
     "data": {
      "text/html": [
       "464"
      ],
      "text/latex": [
       "464"
      ],
      "text/markdown": [
       "464"
      ],
      "text/plain": [
       "[1] 464"
      ]
     },
     "metadata": {},
     "output_type": "display_data"
    }
   ],
   "source": [
    "head(growth)\n",
    "tail(growth)\n",
    "nrow(growth)"
   ]
  },
  {
   "cell_type": "code",
   "execution_count": 4,
   "metadata": {},
   "outputs": [],
   "source": [
    "statewidenp <- growth %>%\n",
    " select(\"Nonpartisan\", \"Year\") %>%\n",
    " group_by(Year) %>%\n",
    " summarize(total = sum(Nonpartisan))"
   ]
  },
  {
   "cell_type": "code",
   "execution_count": 5,
   "metadata": {},
   "outputs": [
    {
     "name": "stdout",
     "output_type": "stream",
     "text": [
      "# A tibble: 5 x 2\n",
      "   Year  total\n",
      "  <int>  <int>\n",
      "1  2008 195459\n",
      "2  2010 212461\n",
      "3  2012 228361\n",
      "4  2014 232628\n",
      "5  2016 246839\n"
     ]
    }
   ],
   "source": [
    "print(statewidenp)"
   ]
  },
  {
   "cell_type": "markdown",
   "metadata": {},
   "source": [
    "The Nebraska Secretary of State has databases that show voter registration and party for every election. The data is inconsistently entered until 2008, when there's a semblance of a pattern.\n",
    "To get the total number of Nonpartisan voters in Nebraska for every year, I made a new variable that had these two elements. Then, to see the numbers, I just printed the variable."
   ]
  },
  {
   "cell_type": "code",
   "execution_count": 6,
   "metadata": {
    "scrolled": false
   },
   "outputs": [
    {
     "data": {},
     "metadata": {},
     "output_type": "display_data"
    },
    {
     "data": {
      "image/png": "[encoded data removed]",
      "text/plain": [
       "plot without title"
      ]
     },
     "metadata": {},
     "output_type": "display_data"
    }
   ],
   "source": [
    "ggplot(statewidenp, aes(x=as.character(Year), weight=total)) + geom_bar() + scale_y_continuous(limits = c(0, 300000), labels = comma) + \n",
    "labs(x=\"Year\", y=\"Total\", title=\"Statewide Growth of Nonpartisans\", subtitle=\"The increase in the amount of nonpartisan voters in Nebraska since 2008.\", \n",
    "     caption=\"Graphic by Nikoel Hytrek | Source: Nebraska Secretary of State\")"
   ]
  },
  {
   "cell_type": "markdown",
   "metadata": {},
   "source": [
    "![Nonpartisan](Non.jpg)"
   ]
  },
  {
   "cell_type": "markdown",
   "metadata": {},
   "source": [
    "This shows that the number of Nonpartisan voters has increased steadily since 2008. \n",
    "According to Cary Wolbers, a graduate student in the University of Nebraska-Lincoln's political science department, the spike in 2012 could either be an outlier or an error in the data. Because the data is the number of registered voters, not the number of people who voted, the amount shouldn't go down after 2012. "
   ]
  },
  {
   "cell_type": "code",
   "execution_count": 7,
   "metadata": {},
   "outputs": [],
   "source": [
    "ggsave(\"nonpart.pdf\", width=6, height=6)"
   ]
  },
  {
   "cell_type": "code",
   "execution_count": 7,
   "metadata": {},
   "outputs": [],
   "source": [
    "statewider <- growth %>%\n",
    " select(\"Republican\", \"Year\") %>%\n",
    " group_by(Year) %>%\n",
    " summarize(total = sum(Republican))"
   ]
  },
  {
   "cell_type": "code",
   "execution_count": 8,
   "metadata": {},
   "outputs": [
    {
     "data": {
      "text/html": [
       "<table>\n",
       "<thead><tr><th scope=col>Year</th><th scope=col>total</th></tr></thead>\n",
       "<tbody>\n",
       "\t<tr><td>2008  </td><td>558308</td></tr>\n",
       "\t<tr><td>2010  </td><td>549011</td></tr>\n",
       "\t<tr><td>2012  </td><td>558145</td></tr>\n",
       "\t<tr><td>2014  </td><td>549104</td></tr>\n",
       "\t<tr><td>2016  </td><td>583021</td></tr>\n",
       "</tbody>\n",
       "</table>\n"
      ],
      "text/latex": [
       "\\begin{tabular}{r|ll}\n",
       " Year & total\\\\\n",
       "\\hline\n",
       "\t 2008   & 558308\\\\\n",
       "\t 2010   & 549011\\\\\n",
       "\t 2012   & 558145\\\\\n",
       "\t 2014   & 549104\\\\\n",
       "\t 2016   & 583021\\\\\n",
       "\\end{tabular}\n"
      ],
      "text/markdown": [
       "\n",
       "Year | total | \n",
       "|---|---|---|---|---|\n",
       "| 2008   | 558308 | \n",
       "| 2010   | 549011 | \n",
       "| 2012   | 558145 | \n",
       "| 2014   | 549104 | \n",
       "| 2016   | 583021 | \n",
       "\n",
       "\n"
      ],
      "text/plain": [
       "  Year total \n",
       "1 2008 558308\n",
       "2 2010 549011\n",
       "3 2012 558145\n",
       "4 2014 549104\n",
       "5 2016 583021"
      ]
     },
     "metadata": {},
     "output_type": "display_data"
    }
   ],
   "source": [
    "head(statewider)"
   ]
  },
  {
   "cell_type": "code",
   "execution_count": 9,
   "metadata": {
    "scrolled": false
   },
   "outputs": [
    {
     "data": {},
     "metadata": {},
     "output_type": "display_data"
    },
    {
     "data": {
      "image/png": "[encoded data removed]",
      "text/plain": [
       "plot without title"
      ]
     },
     "metadata": {},
     "output_type": "display_data"
    }
   ],
   "source": [
    "ggplot(statewider, aes(x=Year, weight=total)) + geom_bar() + scale_y_continuous(labels = comma) + labs(x=\"Year\", y=\"Total\", title=\"Statewide Amount of Republicans\", subtitle=\"The number of Republican voters has stayed stable in Nebraska since 2008.\", \n",
    "     caption=\"Graphic by Nikoel Hytrek | Source: Nebraska Secretary of State\")"
   ]
  },
  {
   "cell_type": "markdown",
   "metadata": {},
   "source": [
    "![Republican](repub.jpg)"
   ]
  },
  {
   "cell_type": "code",
   "execution_count": 11,
   "metadata": {},
   "outputs": [],
   "source": [
    "ggsave(\"rep.pdf\", width=6, height=6)"
   ]
  },
  {
   "cell_type": "code",
   "execution_count": 10,
   "metadata": {},
   "outputs": [],
   "source": [
    "statewided <- growth %>%\n",
    " select(\"Democrat\", \"Year\") %>%\n",
    " group_by(Year) %>%\n",
    " summarize(total = sum(Democrat))"
   ]
  },
  {
   "cell_type": "code",
   "execution_count": 11,
   "metadata": {},
   "outputs": [
    {
     "data": {
      "text/html": [
       "<table>\n",
       "<thead><tr><th scope=col>Year</th><th scope=col>total</th></tr></thead>\n",
       "<tbody>\n",
       "\t<tr><td>2008  </td><td>393468</td></tr>\n",
       "\t<tr><td>2010  </td><td>380252</td></tr>\n",
       "\t<tr><td>2012  </td><td>374075</td></tr>\n",
       "\t<tr><td>2014  </td><td>352789</td></tr>\n",
       "\t<tr><td>2016  </td><td>370027</td></tr>\n",
       "</tbody>\n",
       "</table>\n"
      ],
      "text/latex": [
       "\\begin{tabular}{r|ll}\n",
       " Year & total\\\\\n",
       "\\hline\n",
       "\t 2008   & 393468\\\\\n",
       "\t 2010   & 380252\\\\\n",
       "\t 2012   & 374075\\\\\n",
       "\t 2014   & 352789\\\\\n",
       "\t 2016   & 370027\\\\\n",
       "\\end{tabular}\n"
      ],
      "text/markdown": [
       "\n",
       "Year | total | \n",
       "|---|---|---|---|---|\n",
       "| 2008   | 393468 | \n",
       "| 2010   | 380252 | \n",
       "| 2012   | 374075 | \n",
       "| 2014   | 352789 | \n",
       "| 2016   | 370027 | \n",
       "\n",
       "\n"
      ],
      "text/plain": [
       "  Year total \n",
       "1 2008 393468\n",
       "2 2010 380252\n",
       "3 2012 374075\n",
       "4 2014 352789\n",
       "5 2016 370027"
      ]
     },
     "metadata": {},
     "output_type": "display_data"
    }
   ],
   "source": [
    "head(statewided)"
   ]
  },
  {
   "cell_type": "code",
   "execution_count": 12,
   "metadata": {
    "scrolled": false
   },
   "outputs": [
    {
     "data": {},
     "metadata": {},
     "output_type": "display_data"
    },
    {
     "data": {
      "image/png": "[encoded data removed]",
      "text/plain": [
       "plot without title"
      ]
     },
     "metadata": {},
     "output_type": "display_data"
    }
   ],
   "source": [
    "ggplot(statewided, aes(x=Year, weight=total)) + geom_bar() + scale_y_continuous(labels = comma) + labs(x=\"Year\", y=\"Total\", title=\"Statewide Number of Democrats\", subtitle=\"The amount of Democrat voters in Nebraska has shrunk since 2008.\", \n",
    "     caption=\"Graphic by Nikoel Hytrek | Source: Nebraska Secretary of State\")"
   ]
  },
  {
   "cell_type": "markdown",
   "metadata": {},
   "source": [
    "![Democrat](Dem.jpg)"
   ]
  },
  {
   "cell_type": "code",
   "execution_count": 15,
   "metadata": {},
   "outputs": [],
   "source": [
    "ggsave(\"dem.pdf\", width=6, height=6)"
   ]
  },
  {
   "cell_type": "code",
   "execution_count": 13,
   "metadata": {},
   "outputs": [],
   "source": [
    "statewidel <- growth %>%\n",
    " select(\"Libertarian\", \"Year\") %>%\n",
    " group_by(Year) %>%\n",
    " summarize(total = sum(Libertarian))"
   ]
  },
  {
   "cell_type": "code",
   "execution_count": 14,
   "metadata": {},
   "outputs": [
    {
     "data": {
      "text/html": [
       "<table>\n",
       "<thead><tr><th scope=col>Year</th><th scope=col>total</th></tr></thead>\n",
       "<tbody>\n",
       "\t<tr><td>2008 </td><td>  472</td></tr>\n",
       "\t<tr><td>2010 </td><td>  333</td></tr>\n",
       "\t<tr><td>2012 </td><td> 3164</td></tr>\n",
       "\t<tr><td>2014 </td><td> 5631</td></tr>\n",
       "\t<tr><td>2016 </td><td>11214</td></tr>\n",
       "</tbody>\n",
       "</table>\n"
      ],
      "text/latex": [
       "\\begin{tabular}{r|ll}\n",
       " Year & total\\\\\n",
       "\\hline\n",
       "\t 2008  &   472\\\\\n",
       "\t 2010  &   333\\\\\n",
       "\t 2012  &  3164\\\\\n",
       "\t 2014  &  5631\\\\\n",
       "\t 2016  & 11214\\\\\n",
       "\\end{tabular}\n"
      ],
      "text/markdown": [
       "\n",
       "Year | total | \n",
       "|---|---|---|---|---|\n",
       "| 2008  |   472 | \n",
       "| 2010  |   333 | \n",
       "| 2012  |  3164 | \n",
       "| 2014  |  5631 | \n",
       "| 2016  | 11214 | \n",
       "\n",
       "\n"
      ],
      "text/plain": [
       "  Year total\n",
       "1 2008   472\n",
       "2 2010   333\n",
       "3 2012  3164\n",
       "4 2014  5631\n",
       "5 2016 11214"
      ]
     },
     "metadata": {},
     "output_type": "display_data"
    }
   ],
   "source": [
    "head(statewidel)"
   ]
  },
  {
   "cell_type": "code",
   "execution_count": 15,
   "metadata": {},
   "outputs": [
    {
     "data": {},
     "metadata": {},
     "output_type": "display_data"
    },
    {
     "data": {
      "image/png": "[encoded data removed]",
      "text/plain": [
       "plot without title"
      ]
     },
     "metadata": {},
     "output_type": "display_data"
    }
   ],
   "source": [
    "ggplot(statewidel, aes(x=Year, weight=total)) +geom_bar() + scale_y_continuous(labels = comma) + labs(x=\"Year\", y=\"Total\", title=\"Statewide Number of Libertarians\", subtitle=\"If the number of nonpartisans has grown in Nebraska since 2008, libertarian voters have exploded.\", \n",
    "     caption=\"Graphic by Nikoel Hytrek | Source: Nebraska Secretary of State\")"
   ]
  },
  {
   "cell_type": "markdown",
   "metadata": {},
   "source": [
    "![Libertarian](Lib.jpg)"
   ]
  },
  {
   "cell_type": "code",
   "execution_count": 19,
   "metadata": {},
   "outputs": [],
   "source": [
    "ggsave(\"lib.pdf\", width=6, height=6)"
   ]
  },
  {
   "cell_type": "markdown",
   "metadata": {},
   "source": [
    "This last set of graphs shows how Nonpartisan registration compares to other parties. I'm sure there's a way to do this in code, but I couldn't make it happen with my basic ability. So I did it the longer/harder way in Illustrator. For each party, I did the sum of voters for each year and made a bar graph of those numbers. Then I placed them all side-by-side so we can make comparisons, especially since the graphs aren't on the same scale.\n",
    "\n",
    "To see specifics, I put the totals on top of each bar, and I made the largest bar slightly darker than the others.\n",
    "\n",
    "All of these graphs but the Libertarian one have the 2012 spike, but if you ignore that, you can see the trend for each party, and you can compare how each one is growing. The two main parties have more stable numbers, but both of the alternative parties are growing."
   ]
  },
  {
   "cell_type": "code",
   "execution_count": 16,
   "metadata": {},
   "outputs": [
    {
     "data": {
      "text/html": [
       "<table>\n",
       "<thead><tr><th scope=col>Year</th><th scope=col>variable</th><th scope=col>value</th></tr></thead>\n",
       "<tbody>\n",
       "\t<tr><td>2008        </td><td>nonpartisans</td><td>195459      </td></tr>\n",
       "\t<tr><td>2010        </td><td>nonpartisans</td><td>212461      </td></tr>\n",
       "\t<tr><td>2012        </td><td>nonpartisans</td><td>228361      </td></tr>\n",
       "\t<tr><td>2014        </td><td>nonpartisans</td><td>232628      </td></tr>\n",
       "\t<tr><td>2016        </td><td>nonpartisans</td><td>246839      </td></tr>\n",
       "\t<tr><td>2008        </td><td>republicans </td><td>558308      </td></tr>\n",
       "</tbody>\n",
       "</table>\n"
      ],
      "text/latex": [
       "\\begin{tabular}{r|lll}\n",
       " Year & variable & value\\\\\n",
       "\\hline\n",
       "\t 2008         & nonpartisans & 195459      \\\\\n",
       "\t 2010         & nonpartisans & 212461      \\\\\n",
       "\t 2012         & nonpartisans & 228361      \\\\\n",
       "\t 2014         & nonpartisans & 232628      \\\\\n",
       "\t 2016         & nonpartisans & 246839      \\\\\n",
       "\t 2008         & republicans  & 558308      \\\\\n",
       "\\end{tabular}\n"
      ],
      "text/markdown": [
       "\n",
       "Year | variable | value | \n",
       "|---|---|---|---|---|---|\n",
       "| 2008         | nonpartisans | 195459       | \n",
       "| 2010         | nonpartisans | 212461       | \n",
       "| 2012         | nonpartisans | 228361       | \n",
       "| 2014         | nonpartisans | 232628       | \n",
       "| 2016         | nonpartisans | 246839       | \n",
       "| 2008         | republicans  | 558308       | \n",
       "\n",
       "\n"
      ],
      "text/plain": [
       "  Year variable     value \n",
       "1 2008 nonpartisans 195459\n",
       "2 2010 nonpartisans 212461\n",
       "3 2012 nonpartisans 228361\n",
       "4 2014 nonpartisans 232628\n",
       "5 2016 nonpartisans 246839\n",
       "6 2008 republicans  558308"
      ]
     },
     "metadata": {},
     "output_type": "display_data"
    }
   ],
   "source": [
    "totals <- growth %>%\n",
    " group_by(Year) %>%\n",
    " summarize(\n",
    "     nonpartisans = sum(Nonpartisan),\n",
    "     republicans = sum(Republican),\n",
    "     democrats = sum(Democrat),\n",
    "     libertarians = sum(Libertarian)) \n",
    "\n",
    "longtotals <- melt(totals, id.vars = c('Year'))\n",
    "\n",
    "head(longtotals)"
   ]
  },
  {
   "cell_type": "code",
   "execution_count": 17,
   "metadata": {},
   "outputs": [
    {
     "data": {},
     "metadata": {},
     "output_type": "display_data"
    },
    {
     "data": {
      "image/png": "[encoded data removed]",
      "text/plain": [
       "plot without title"
      ]
     },
     "metadata": {},
     "output_type": "display_data"
    }
   ],
   "source": [
    "ggplot(longtotals, aes(x=as.character(Year), weight=value)) +geom_bar() + scale_y_continuous(labels = comma) + labs(x=\"Year\", y=\"Total\", title=\"Overall change in registration statewide\", subtitle=\"Over eight years, voter registraton has changed.\", \n",
    "     caption=\"Graphic by Nikoel Hytrek | Source: Nebraska Secretary of State\") + facet_grid(. ~ variable)"
   ]
  },
  {
   "cell_type": "markdown",
   "metadata": {},
   "source": [
    "![All](All.jpg)"
   ]
  },
  {
   "cell_type": "code",
   "execution_count": 22,
   "metadata": {},
   "outputs": [],
   "source": [
    "ggsave(\"all.pdf\", width=6, height=6)"
   ]
  },
  {
   "cell_type": "code",
   "execution_count": 18,
   "metadata": {
    "scrolled": false
   },
   "outputs": [
    {
     "data": {},
     "metadata": {},
     "output_type": "display_data"
    },
    {
     "data": {
      "image/png": "[encoded data removed]",
      "text/plain": [
       "plot without title"
      ]
     },
     "metadata": {},
     "output_type": "display_data"
    }
   ],
   "source": [
    "ggplot(longtotals, aes(x=as.character(Year), weight=value, fill=variable)) + geom_bar() +\n",
    "scale_color_brewer(\"variable\") + coord_flip() + scale_fill_brewer(palette=\"RdBu\") + labs(x = \"Year\", y = \"Total\", \n",
    "title = \"Comparison of Growth\", caption = \"Graphic by Nikoel Hytrek | Source: Nebraska Secretary of State\")"
   ]
  },
  {
   "cell_type": "markdown",
   "metadata": {},
   "source": [
    "![Comparison](Comp.jpg)"
   ]
  },
  {
   "cell_type": "code",
   "execution_count": 19,
   "metadata": {},
   "outputs": [],
   "source": [
    "ggsave(\"comp.pdf\", width=6, height=6)"
   ]
  },
  {
   "cell_type": "markdown",
   "metadata": {},
   "source": [
    "I tried to do a line graph for this final one, but the data didn't want to be a line graph. When I got it to work, it just looked like a bunch of slanted H's. "
   ]
  }
 ],
 "metadata": {
  "kernelspec": {
   "display_name": "R",
   "language": "R",
   "name": "ir"
  },
  "language_info": {
   "codemirror_mode": "r",
   "file_extension": ".r",
   "mimetype": "text/x-r-source",
   "name": "R",
   "pygments_lexer": "r",
   "version": "3.4.3"
  }
 },
 "nbformat": 4,
 "nbformat_minor": 2
}
